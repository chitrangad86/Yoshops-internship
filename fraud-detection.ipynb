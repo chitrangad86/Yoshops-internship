{
 "cells": [
  {
   "cell_type": "markdown",
   "id": "44776380",
   "metadata": {
    "papermill": {
     "duration": 0.02463,
     "end_time": "2022-03-10T02:39:02.223381",
     "exception": false,
     "start_time": "2022-03-10T02:39:02.198751",
     "status": "completed"
    },
    "tags": []
   },
   "source": [
    "This case requires trainees to develop a model for predicting fraudulent transactions for a\n",
    "financial company and use insights from the model to develop an actionable plan"
   ]
  },
  {
   "cell_type": "markdown",
   "id": "1b3bb573",
   "metadata": {
    "papermill": {
     "duration": 0.02686,
     "end_time": "2022-03-10T02:39:02.282407",
     "exception": false,
     "start_time": "2022-03-10T02:39:02.255547",
     "status": "completed"
    },
    "tags": []
   },
   "source": [
    "Table of Contents\n",
    "1. Importing libraries and packages\n",
    "2. Cleaning Data\n",
    "3. Exploratory Data Analysis\n",
    "4. Decision tree\n",
    "5. Summary"
   ]
  },
  {
   "cell_type": "code",
   "execution_count": 1,
   "id": "13ec8fae",
   "metadata": {
    "execution": {
     "iopub.execute_input": "2022-03-10T02:39:02.335541Z",
     "iopub.status.busy": "2022-03-10T02:39:02.334498Z",
     "iopub.status.idle": "2022-03-10T02:39:02.345468Z",
     "shell.execute_reply": "2022-03-10T02:39:02.345976Z",
     "shell.execute_reply.started": "2022-03-09T16:25:46.666019Z"
    },
    "papermill": {
     "duration": 0.036499,
     "end_time": "2022-03-10T02:39:02.346262",
     "exception": false,
     "start_time": "2022-03-10T02:39:02.309763",
     "status": "completed"
    },
    "tags": []
   },
   "outputs": [],
   "source": [
    "#importing libraries\n",
    "import pandas as pd\n",
    "import numpy as np\n",
    "import matplotlib.pylab as plt"
   ]
  },
  {
   "cell_type": "code",
   "execution_count": null,
   "id": "f695ec95",
   "metadata": {},
   "outputs": [],
   "source": []
  },
  {
   "cell_type": "code",
   "execution_count": 2,
   "id": "bfa4a8f6",
   "metadata": {
    "execution": {
     "iopub.execute_input": "2022-03-10T02:39:02.393730Z",
     "iopub.status.busy": "2022-03-10T02:39:02.392343Z",
     "iopub.status.idle": "2022-03-10T02:39:19.360169Z",
     "shell.execute_reply": "2022-03-10T02:39:19.360603Z",
     "shell.execute_reply.started": "2022-03-09T16:25:46.677476Z"
    },
    "papermill": {
     "duration": 16.992721,
     "end_time": "2022-03-10T02:39:19.360783",
     "exception": false,
     "start_time": "2022-03-10T02:39:02.368062",
     "status": "completed"
    },
    "scrolled": true,
    "tags": []
   },
   "outputs": [
    {
     "ename": "FileNotFoundError",
     "evalue": "[Errno 2] No such file or directory: 'Fraud.csv'",
     "output_type": "error",
     "traceback": [
      "\u001b[1;31m---------------------------------------------------------------------------\u001b[0m",
      "\u001b[1;31mFileNotFoundError\u001b[0m                         Traceback (most recent call last)",
      "\u001b[1;32mC:\\Users\\CHITRA~1\\AppData\\Local\\Temp/ipykernel_19336/3425426749.py\u001b[0m in \u001b[0;36m<module>\u001b[1;34m\u001b[0m\n\u001b[0;32m      5\u001b[0m \u001b[1;32mimport\u001b[0m \u001b[0mmatplotlib\u001b[0m\u001b[1;33m.\u001b[0m\u001b[0mpylab\u001b[0m \u001b[1;32mas\u001b[0m \u001b[0mplt\u001b[0m\u001b[1;33m\u001b[0m\u001b[1;33m\u001b[0m\u001b[0m\n\u001b[0;32m      6\u001b[0m \u001b[0mfilename\u001b[0m \u001b[1;33m=\u001b[0m \u001b[1;34m\"Fraud.csv\"\u001b[0m\u001b[1;33m\u001b[0m\u001b[1;33m\u001b[0m\u001b[0m\n\u001b[1;32m----> 7\u001b[1;33m \u001b[0mdf\u001b[0m \u001b[1;33m=\u001b[0m \u001b[0mpd\u001b[0m\u001b[1;33m.\u001b[0m\u001b[0mread_csv\u001b[0m\u001b[1;33m(\u001b[0m\u001b[0mfilename\u001b[0m\u001b[1;33m)\u001b[0m\u001b[1;33m\u001b[0m\u001b[1;33m\u001b[0m\u001b[0m\n\u001b[0m",
      "\u001b[1;32m~\\anaconda3\\lib\\site-packages\\pandas\\util\\_decorators.py\u001b[0m in \u001b[0;36mwrapper\u001b[1;34m(*args, **kwargs)\u001b[0m\n\u001b[0;32m    309\u001b[0m                     \u001b[0mstacklevel\u001b[0m\u001b[1;33m=\u001b[0m\u001b[0mstacklevel\u001b[0m\u001b[1;33m,\u001b[0m\u001b[1;33m\u001b[0m\u001b[1;33m\u001b[0m\u001b[0m\n\u001b[0;32m    310\u001b[0m                 )\n\u001b[1;32m--> 311\u001b[1;33m             \u001b[1;32mreturn\u001b[0m \u001b[0mfunc\u001b[0m\u001b[1;33m(\u001b[0m\u001b[1;33m*\u001b[0m\u001b[0margs\u001b[0m\u001b[1;33m,\u001b[0m \u001b[1;33m**\u001b[0m\u001b[0mkwargs\u001b[0m\u001b[1;33m)\u001b[0m\u001b[1;33m\u001b[0m\u001b[1;33m\u001b[0m\u001b[0m\n\u001b[0m\u001b[0;32m    312\u001b[0m \u001b[1;33m\u001b[0m\u001b[0m\n\u001b[0;32m    313\u001b[0m         \u001b[1;32mreturn\u001b[0m \u001b[0mwrapper\u001b[0m\u001b[1;33m\u001b[0m\u001b[1;33m\u001b[0m\u001b[0m\n",
      "\u001b[1;32m~\\anaconda3\\lib\\site-packages\\pandas\\io\\parsers\\readers.py\u001b[0m in \u001b[0;36mread_csv\u001b[1;34m(filepath_or_buffer, sep, delimiter, header, names, index_col, usecols, squeeze, prefix, mangle_dupe_cols, dtype, engine, converters, true_values, false_values, skipinitialspace, skiprows, skipfooter, nrows, na_values, keep_default_na, na_filter, verbose, skip_blank_lines, parse_dates, infer_datetime_format, keep_date_col, date_parser, dayfirst, cache_dates, iterator, chunksize, compression, thousands, decimal, lineterminator, quotechar, quoting, doublequote, escapechar, comment, encoding, encoding_errors, dialect, error_bad_lines, warn_bad_lines, on_bad_lines, delim_whitespace, low_memory, memory_map, float_precision, storage_options)\u001b[0m\n\u001b[0;32m    584\u001b[0m     \u001b[0mkwds\u001b[0m\u001b[1;33m.\u001b[0m\u001b[0mupdate\u001b[0m\u001b[1;33m(\u001b[0m\u001b[0mkwds_defaults\u001b[0m\u001b[1;33m)\u001b[0m\u001b[1;33m\u001b[0m\u001b[1;33m\u001b[0m\u001b[0m\n\u001b[0;32m    585\u001b[0m \u001b[1;33m\u001b[0m\u001b[0m\n\u001b[1;32m--> 586\u001b[1;33m     \u001b[1;32mreturn\u001b[0m \u001b[0m_read\u001b[0m\u001b[1;33m(\u001b[0m\u001b[0mfilepath_or_buffer\u001b[0m\u001b[1;33m,\u001b[0m \u001b[0mkwds\u001b[0m\u001b[1;33m)\u001b[0m\u001b[1;33m\u001b[0m\u001b[1;33m\u001b[0m\u001b[0m\n\u001b[0m\u001b[0;32m    587\u001b[0m \u001b[1;33m\u001b[0m\u001b[0m\n\u001b[0;32m    588\u001b[0m \u001b[1;33m\u001b[0m\u001b[0m\n",
      "\u001b[1;32m~\\anaconda3\\lib\\site-packages\\pandas\\io\\parsers\\readers.py\u001b[0m in \u001b[0;36m_read\u001b[1;34m(filepath_or_buffer, kwds)\u001b[0m\n\u001b[0;32m    480\u001b[0m \u001b[1;33m\u001b[0m\u001b[0m\n\u001b[0;32m    481\u001b[0m     \u001b[1;31m# Create the parser.\u001b[0m\u001b[1;33m\u001b[0m\u001b[1;33m\u001b[0m\u001b[0m\n\u001b[1;32m--> 482\u001b[1;33m     \u001b[0mparser\u001b[0m \u001b[1;33m=\u001b[0m \u001b[0mTextFileReader\u001b[0m\u001b[1;33m(\u001b[0m\u001b[0mfilepath_or_buffer\u001b[0m\u001b[1;33m,\u001b[0m \u001b[1;33m**\u001b[0m\u001b[0mkwds\u001b[0m\u001b[1;33m)\u001b[0m\u001b[1;33m\u001b[0m\u001b[1;33m\u001b[0m\u001b[0m\n\u001b[0m\u001b[0;32m    483\u001b[0m \u001b[1;33m\u001b[0m\u001b[0m\n\u001b[0;32m    484\u001b[0m     \u001b[1;32mif\u001b[0m \u001b[0mchunksize\u001b[0m \u001b[1;32mor\u001b[0m \u001b[0miterator\u001b[0m\u001b[1;33m:\u001b[0m\u001b[1;33m\u001b[0m\u001b[1;33m\u001b[0m\u001b[0m\n",
      "\u001b[1;32m~\\anaconda3\\lib\\site-packages\\pandas\\io\\parsers\\readers.py\u001b[0m in \u001b[0;36m__init__\u001b[1;34m(self, f, engine, **kwds)\u001b[0m\n\u001b[0;32m    809\u001b[0m             \u001b[0mself\u001b[0m\u001b[1;33m.\u001b[0m\u001b[0moptions\u001b[0m\u001b[1;33m[\u001b[0m\u001b[1;34m\"has_index_names\"\u001b[0m\u001b[1;33m]\u001b[0m \u001b[1;33m=\u001b[0m \u001b[0mkwds\u001b[0m\u001b[1;33m[\u001b[0m\u001b[1;34m\"has_index_names\"\u001b[0m\u001b[1;33m]\u001b[0m\u001b[1;33m\u001b[0m\u001b[1;33m\u001b[0m\u001b[0m\n\u001b[0;32m    810\u001b[0m \u001b[1;33m\u001b[0m\u001b[0m\n\u001b[1;32m--> 811\u001b[1;33m         \u001b[0mself\u001b[0m\u001b[1;33m.\u001b[0m\u001b[0m_engine\u001b[0m \u001b[1;33m=\u001b[0m \u001b[0mself\u001b[0m\u001b[1;33m.\u001b[0m\u001b[0m_make_engine\u001b[0m\u001b[1;33m(\u001b[0m\u001b[0mself\u001b[0m\u001b[1;33m.\u001b[0m\u001b[0mengine\u001b[0m\u001b[1;33m)\u001b[0m\u001b[1;33m\u001b[0m\u001b[1;33m\u001b[0m\u001b[0m\n\u001b[0m\u001b[0;32m    812\u001b[0m \u001b[1;33m\u001b[0m\u001b[0m\n\u001b[0;32m    813\u001b[0m     \u001b[1;32mdef\u001b[0m \u001b[0mclose\u001b[0m\u001b[1;33m(\u001b[0m\u001b[0mself\u001b[0m\u001b[1;33m)\u001b[0m\u001b[1;33m:\u001b[0m\u001b[1;33m\u001b[0m\u001b[1;33m\u001b[0m\u001b[0m\n",
      "\u001b[1;32m~\\anaconda3\\lib\\site-packages\\pandas\\io\\parsers\\readers.py\u001b[0m in \u001b[0;36m_make_engine\u001b[1;34m(self, engine)\u001b[0m\n\u001b[0;32m   1038\u001b[0m             )\n\u001b[0;32m   1039\u001b[0m         \u001b[1;31m# error: Too many arguments for \"ParserBase\"\u001b[0m\u001b[1;33m\u001b[0m\u001b[1;33m\u001b[0m\u001b[0m\n\u001b[1;32m-> 1040\u001b[1;33m         \u001b[1;32mreturn\u001b[0m \u001b[0mmapping\u001b[0m\u001b[1;33m[\u001b[0m\u001b[0mengine\u001b[0m\u001b[1;33m]\u001b[0m\u001b[1;33m(\u001b[0m\u001b[0mself\u001b[0m\u001b[1;33m.\u001b[0m\u001b[0mf\u001b[0m\u001b[1;33m,\u001b[0m \u001b[1;33m**\u001b[0m\u001b[0mself\u001b[0m\u001b[1;33m.\u001b[0m\u001b[0moptions\u001b[0m\u001b[1;33m)\u001b[0m  \u001b[1;31m# type: ignore[call-arg]\u001b[0m\u001b[1;33m\u001b[0m\u001b[1;33m\u001b[0m\u001b[0m\n\u001b[0m\u001b[0;32m   1041\u001b[0m \u001b[1;33m\u001b[0m\u001b[0m\n\u001b[0;32m   1042\u001b[0m     \u001b[1;32mdef\u001b[0m \u001b[0m_failover_to_python\u001b[0m\u001b[1;33m(\u001b[0m\u001b[0mself\u001b[0m\u001b[1;33m)\u001b[0m\u001b[1;33m:\u001b[0m\u001b[1;33m\u001b[0m\u001b[1;33m\u001b[0m\u001b[0m\n",
      "\u001b[1;32m~\\anaconda3\\lib\\site-packages\\pandas\\io\\parsers\\c_parser_wrapper.py\u001b[0m in \u001b[0;36m__init__\u001b[1;34m(self, src, **kwds)\u001b[0m\n\u001b[0;32m     49\u001b[0m \u001b[1;33m\u001b[0m\u001b[0m\n\u001b[0;32m     50\u001b[0m         \u001b[1;31m# open handles\u001b[0m\u001b[1;33m\u001b[0m\u001b[1;33m\u001b[0m\u001b[0m\n\u001b[1;32m---> 51\u001b[1;33m         \u001b[0mself\u001b[0m\u001b[1;33m.\u001b[0m\u001b[0m_open_handles\u001b[0m\u001b[1;33m(\u001b[0m\u001b[0msrc\u001b[0m\u001b[1;33m,\u001b[0m \u001b[0mkwds\u001b[0m\u001b[1;33m)\u001b[0m\u001b[1;33m\u001b[0m\u001b[1;33m\u001b[0m\u001b[0m\n\u001b[0m\u001b[0;32m     52\u001b[0m         \u001b[1;32massert\u001b[0m \u001b[0mself\u001b[0m\u001b[1;33m.\u001b[0m\u001b[0mhandles\u001b[0m \u001b[1;32mis\u001b[0m \u001b[1;32mnot\u001b[0m \u001b[1;32mNone\u001b[0m\u001b[1;33m\u001b[0m\u001b[1;33m\u001b[0m\u001b[0m\n\u001b[0;32m     53\u001b[0m \u001b[1;33m\u001b[0m\u001b[0m\n",
      "\u001b[1;32m~\\anaconda3\\lib\\site-packages\\pandas\\io\\parsers\\base_parser.py\u001b[0m in \u001b[0;36m_open_handles\u001b[1;34m(self, src, kwds)\u001b[0m\n\u001b[0;32m    220\u001b[0m         \u001b[0mLet\u001b[0m \u001b[0mthe\u001b[0m \u001b[0mreaders\u001b[0m \u001b[0mopen\u001b[0m \u001b[0mIOHandles\u001b[0m \u001b[0mafter\u001b[0m \u001b[0mthey\u001b[0m \u001b[0mare\u001b[0m \u001b[0mdone\u001b[0m \u001b[1;32mwith\u001b[0m \u001b[0mtheir\u001b[0m \u001b[0mpotential\u001b[0m \u001b[0mraises\u001b[0m\u001b[1;33m.\u001b[0m\u001b[1;33m\u001b[0m\u001b[1;33m\u001b[0m\u001b[0m\n\u001b[0;32m    221\u001b[0m         \"\"\"\n\u001b[1;32m--> 222\u001b[1;33m         self.handles = get_handle(\n\u001b[0m\u001b[0;32m    223\u001b[0m             \u001b[0msrc\u001b[0m\u001b[1;33m,\u001b[0m\u001b[1;33m\u001b[0m\u001b[1;33m\u001b[0m\u001b[0m\n\u001b[0;32m    224\u001b[0m             \u001b[1;34m\"r\"\u001b[0m\u001b[1;33m,\u001b[0m\u001b[1;33m\u001b[0m\u001b[1;33m\u001b[0m\u001b[0m\n",
      "\u001b[1;32m~\\anaconda3\\lib\\site-packages\\pandas\\io\\common.py\u001b[0m in \u001b[0;36mget_handle\u001b[1;34m(path_or_buf, mode, encoding, compression, memory_map, is_text, errors, storage_options)\u001b[0m\n\u001b[0;32m    700\u001b[0m         \u001b[1;32mif\u001b[0m \u001b[0mioargs\u001b[0m\u001b[1;33m.\u001b[0m\u001b[0mencoding\u001b[0m \u001b[1;32mand\u001b[0m \u001b[1;34m\"b\"\u001b[0m \u001b[1;32mnot\u001b[0m \u001b[1;32min\u001b[0m \u001b[0mioargs\u001b[0m\u001b[1;33m.\u001b[0m\u001b[0mmode\u001b[0m\u001b[1;33m:\u001b[0m\u001b[1;33m\u001b[0m\u001b[1;33m\u001b[0m\u001b[0m\n\u001b[0;32m    701\u001b[0m             \u001b[1;31m# Encoding\u001b[0m\u001b[1;33m\u001b[0m\u001b[1;33m\u001b[0m\u001b[0m\n\u001b[1;32m--> 702\u001b[1;33m             handle = open(\n\u001b[0m\u001b[0;32m    703\u001b[0m                 \u001b[0mhandle\u001b[0m\u001b[1;33m,\u001b[0m\u001b[1;33m\u001b[0m\u001b[1;33m\u001b[0m\u001b[0m\n\u001b[0;32m    704\u001b[0m                 \u001b[0mioargs\u001b[0m\u001b[1;33m.\u001b[0m\u001b[0mmode\u001b[0m\u001b[1;33m,\u001b[0m\u001b[1;33m\u001b[0m\u001b[1;33m\u001b[0m\u001b[0m\n",
      "\u001b[1;31mFileNotFoundError\u001b[0m: [Errno 2] No such file or directory: 'Fraud.csv'"
     ]
    }
   ],
   "source": [
    "#inputing data\n",
    "#importing libraries\n",
    "import pandas as pd\n",
    "import numpy as np\n",
    "import matplotlib.pylab as plt\n",
    "filename = \"Fraud.csv\"\n",
    "df = pd.read_csv(filename)"
   ]
  },
  {
   "cell_type": "code",
   "execution_count": null,
   "id": "42158e0b",
   "metadata": {},
   "outputs": [],
   "source": []
  },
  {
   "cell_type": "code",
   "execution_count": 8,
   "id": "81f0d871",
   "metadata": {
    "execution": {
     "iopub.execute_input": "2022-03-10T02:39:19.412309Z",
     "iopub.status.busy": "2022-03-10T02:39:19.411656Z",
     "iopub.status.idle": "2022-03-10T02:39:19.430571Z",
     "shell.execute_reply": "2022-03-10T02:39:19.431056Z",
     "shell.execute_reply.started": "2022-03-09T16:26:06.47439Z"
    },
    "papermill": {
     "duration": 0.048754,
     "end_time": "2022-03-10T02:39:19.431234",
     "exception": false,
     "start_time": "2022-03-10T02:39:19.382480",
     "status": "completed"
    },
    "tags": []
   },
   "outputs": [
    {
     "data": {
      "text/html": [
       "<div>\n",
       "<style scoped>\n",
       "    .dataframe tbody tr th:only-of-type {\n",
       "        vertical-align: middle;\n",
       "    }\n",
       "\n",
       "    .dataframe tbody tr th {\n",
       "        vertical-align: top;\n",
       "    }\n",
       "\n",
       "    .dataframe thead th {\n",
       "        text-align: right;\n",
       "    }\n",
       "</style>\n",
       "<table border=\"1\" class=\"dataframe\">\n",
       "  <thead>\n",
       "    <tr style=\"text-align: right;\">\n",
       "      <th></th>\n",
       "      <th>step</th>\n",
       "      <th>type</th>\n",
       "      <th>amount</th>\n",
       "      <th>nameOrig</th>\n",
       "      <th>oldbalanceOrg</th>\n",
       "      <th>newbalanceOrig</th>\n",
       "      <th>nameDest</th>\n",
       "      <th>oldbalanceDest</th>\n",
       "      <th>newbalanceDest</th>\n",
       "      <th>isFraud</th>\n",
       "      <th>isFlaggedFraud</th>\n",
       "    </tr>\n",
       "  </thead>\n",
       "  <tbody>\n",
       "    <tr>\n",
       "      <th>0</th>\n",
       "      <td>1</td>\n",
       "      <td>PAYMENT</td>\n",
       "      <td>9839.64</td>\n",
       "      <td>C1231006815</td>\n",
       "      <td>170136.0</td>\n",
       "      <td>160296.36</td>\n",
       "      <td>M1979787155</td>\n",
       "      <td>0.0</td>\n",
       "      <td>0.0</td>\n",
       "      <td>0</td>\n",
       "      <td>0</td>\n",
       "    </tr>\n",
       "    <tr>\n",
       "      <th>1</th>\n",
       "      <td>1</td>\n",
       "      <td>PAYMENT</td>\n",
       "      <td>1864.28</td>\n",
       "      <td>C1666544295</td>\n",
       "      <td>21249.0</td>\n",
       "      <td>19384.72</td>\n",
       "      <td>M2044282225</td>\n",
       "      <td>0.0</td>\n",
       "      <td>0.0</td>\n",
       "      <td>0</td>\n",
       "      <td>0</td>\n",
       "    </tr>\n",
       "    <tr>\n",
       "      <th>2</th>\n",
       "      <td>1</td>\n",
       "      <td>TRANSFER</td>\n",
       "      <td>181.00</td>\n",
       "      <td>C1305486145</td>\n",
       "      <td>181.0</td>\n",
       "      <td>0.00</td>\n",
       "      <td>C553264065</td>\n",
       "      <td>0.0</td>\n",
       "      <td>0.0</td>\n",
       "      <td>1</td>\n",
       "      <td>0</td>\n",
       "    </tr>\n",
       "    <tr>\n",
       "      <th>3</th>\n",
       "      <td>1</td>\n",
       "      <td>CASH_OUT</td>\n",
       "      <td>181.00</td>\n",
       "      <td>C840083671</td>\n",
       "      <td>181.0</td>\n",
       "      <td>0.00</td>\n",
       "      <td>C38997010</td>\n",
       "      <td>21182.0</td>\n",
       "      <td>0.0</td>\n",
       "      <td>1</td>\n",
       "      <td>0</td>\n",
       "    </tr>\n",
       "    <tr>\n",
       "      <th>4</th>\n",
       "      <td>1</td>\n",
       "      <td>PAYMENT</td>\n",
       "      <td>11668.14</td>\n",
       "      <td>C2048537720</td>\n",
       "      <td>41554.0</td>\n",
       "      <td>29885.86</td>\n",
       "      <td>M1230701703</td>\n",
       "      <td>0.0</td>\n",
       "      <td>0.0</td>\n",
       "      <td>0</td>\n",
       "      <td>0</td>\n",
       "    </tr>\n",
       "  </tbody>\n",
       "</table>\n",
       "</div>"
      ],
      "text/plain": [
       "   step      type    amount     nameOrig  oldbalanceOrg  newbalanceOrig  \\\n",
       "0     1   PAYMENT   9839.64  C1231006815       170136.0       160296.36   \n",
       "1     1   PAYMENT   1864.28  C1666544295        21249.0        19384.72   \n",
       "2     1  TRANSFER    181.00  C1305486145          181.0            0.00   \n",
       "3     1  CASH_OUT    181.00   C840083671          181.0            0.00   \n",
       "4     1   PAYMENT  11668.14  C2048537720        41554.0        29885.86   \n",
       "\n",
       "      nameDest  oldbalanceDest  newbalanceDest  isFraud  isFlaggedFraud  \n",
       "0  M1979787155             0.0             0.0        0               0  \n",
       "1  M2044282225             0.0             0.0        0               0  \n",
       "2   C553264065             0.0             0.0        1               0  \n",
       "3    C38997010         21182.0             0.0        1               0  \n",
       "4  M1230701703             0.0             0.0        0               0  "
      ]
     },
     "execution_count": 8,
     "metadata": {},
     "output_type": "execute_result"
    }
   ],
   "source": [
    "#displaying first 5 rows of dataframe\n",
    "df.head(5)"
   ]
  },
  {
   "cell_type": "code",
   "execution_count": 10,
   "id": "694a3083",
   "metadata": {
    "execution": {
     "iopub.execute_input": "2022-03-10T02:39:19.478374Z",
     "iopub.status.busy": "2022-03-10T02:39:19.477696Z",
     "iopub.status.idle": "2022-03-10T02:39:19.486929Z",
     "shell.execute_reply": "2022-03-10T02:39:19.487406Z",
     "shell.execute_reply.started": "2022-03-09T16:26:06.509139Z"
    },
    "papermill": {
     "duration": 0.034162,
     "end_time": "2022-03-10T02:39:19.487577",
     "exception": false,
     "start_time": "2022-03-10T02:39:19.453415",
     "status": "completed"
    },
    "tags": []
   },
   "outputs": [
    {
     "name": "stdout",
     "output_type": "stream",
     "text": [
      "Index(['Step', 'Type', 'Amount', 'NameOrig', 'OldBalanceOrg', 'newbalanceOrig',\n",
      "       'NameDest', 'OldBalanceDest', 'NewBalanceDest', 'IsFraud',\n",
      "       'IsFlaggedFraud'],\n",
      "      dtype='object')\n"
     ]
    }
   ],
   "source": [
    "#renaming column names\n",
    "df.rename(columns = {'step':'Step', 'type':'Type', 'amount': 'Amount', 'nameOrig':'NameOrig', \n",
    "                        'oldbalanceOrg': 'OldBalanceOrg', 'newbalanceOrg' :'NewBalanceOrg',\n",
    "                       'nameDest': 'NameDest', 'oldbalanceDest':'OldBalanceDest',\n",
    "                       'newbalanceDest':'NewBalanceDest', 'isFraud':'IsFraud',\n",
    "                       'isFlaggedFraud':'IsFlaggedFraud'}, inplace=True)\n",
    "   \n",
    "# After renaming the columns\n",
    "print(df.columns)"
   ]
  },
  {
   "cell_type": "code",
   "execution_count": 11,
   "id": "37674fc6",
   "metadata": {
    "execution": {
     "iopub.execute_input": "2022-03-10T02:39:19.539543Z",
     "iopub.status.busy": "2022-03-10T02:39:19.538870Z",
     "iopub.status.idle": "2022-03-10T02:39:20.384570Z",
     "shell.execute_reply": "2022-03-10T02:39:20.384088Z",
     "shell.execute_reply.started": "2022-03-09T16:26:06.522442Z"
    },
    "papermill": {
     "duration": 0.872962,
     "end_time": "2022-03-10T02:39:20.384711",
     "exception": false,
     "start_time": "2022-03-10T02:39:19.511749",
     "status": "completed"
    },
    "tags": []
   },
   "outputs": [
    {
     "data": {
      "text/html": [
       "<div>\n",
       "<style scoped>\n",
       "    .dataframe tbody tr th:only-of-type {\n",
       "        vertical-align: middle;\n",
       "    }\n",
       "\n",
       "    .dataframe tbody tr th {\n",
       "        vertical-align: top;\n",
       "    }\n",
       "\n",
       "    .dataframe thead th {\n",
       "        text-align: right;\n",
       "    }\n",
       "</style>\n",
       "<table border=\"1\" class=\"dataframe\">\n",
       "  <thead>\n",
       "    <tr style=\"text-align: right;\">\n",
       "      <th></th>\n",
       "      <th>Step</th>\n",
       "      <th>Type</th>\n",
       "      <th>Amount</th>\n",
       "      <th>NameOrig</th>\n",
       "      <th>OldBalanceOrg</th>\n",
       "      <th>newbalanceOrig</th>\n",
       "      <th>NameDest</th>\n",
       "      <th>OldBalanceDest</th>\n",
       "      <th>NewBalanceDest</th>\n",
       "      <th>IsFraud</th>\n",
       "      <th>IsFlaggedFraud</th>\n",
       "    </tr>\n",
       "  </thead>\n",
       "  <tbody>\n",
       "    <tr>\n",
       "      <th>0</th>\n",
       "      <td>False</td>\n",
       "      <td>False</td>\n",
       "      <td>False</td>\n",
       "      <td>False</td>\n",
       "      <td>False</td>\n",
       "      <td>False</td>\n",
       "      <td>False</td>\n",
       "      <td>False</td>\n",
       "      <td>False</td>\n",
       "      <td>False</td>\n",
       "      <td>False</td>\n",
       "    </tr>\n",
       "    <tr>\n",
       "      <th>1</th>\n",
       "      <td>False</td>\n",
       "      <td>False</td>\n",
       "      <td>False</td>\n",
       "      <td>False</td>\n",
       "      <td>False</td>\n",
       "      <td>False</td>\n",
       "      <td>False</td>\n",
       "      <td>False</td>\n",
       "      <td>False</td>\n",
       "      <td>False</td>\n",
       "      <td>False</td>\n",
       "    </tr>\n",
       "    <tr>\n",
       "      <th>2</th>\n",
       "      <td>False</td>\n",
       "      <td>False</td>\n",
       "      <td>False</td>\n",
       "      <td>False</td>\n",
       "      <td>False</td>\n",
       "      <td>False</td>\n",
       "      <td>False</td>\n",
       "      <td>False</td>\n",
       "      <td>False</td>\n",
       "      <td>False</td>\n",
       "      <td>False</td>\n",
       "    </tr>\n",
       "    <tr>\n",
       "      <th>3</th>\n",
       "      <td>False</td>\n",
       "      <td>False</td>\n",
       "      <td>False</td>\n",
       "      <td>False</td>\n",
       "      <td>False</td>\n",
       "      <td>False</td>\n",
       "      <td>False</td>\n",
       "      <td>False</td>\n",
       "      <td>False</td>\n",
       "      <td>False</td>\n",
       "      <td>False</td>\n",
       "    </tr>\n",
       "    <tr>\n",
       "      <th>4</th>\n",
       "      <td>False</td>\n",
       "      <td>False</td>\n",
       "      <td>False</td>\n",
       "      <td>False</td>\n",
       "      <td>False</td>\n",
       "      <td>False</td>\n",
       "      <td>False</td>\n",
       "      <td>False</td>\n",
       "      <td>False</td>\n",
       "      <td>False</td>\n",
       "      <td>False</td>\n",
       "    </tr>\n",
       "  </tbody>\n",
       "</table>\n",
       "</div>"
      ],
      "text/plain": [
       "    Step   Type  Amount  NameOrig  OldBalanceOrg  newbalanceOrig  NameDest  \\\n",
       "0  False  False   False     False          False           False     False   \n",
       "1  False  False   False     False          False           False     False   \n",
       "2  False  False   False     False          False           False     False   \n",
       "3  False  False   False     False          False           False     False   \n",
       "4  False  False   False     False          False           False     False   \n",
       "\n",
       "   OldBalanceDest  NewBalanceDest  IsFraud  IsFlaggedFraud  \n",
       "0           False           False    False           False  \n",
       "1           False           False    False           False  \n",
       "2           False           False    False           False  \n",
       "3           False           False    False           False  \n",
       "4           False           False    False           False  "
      ]
     },
     "execution_count": 11,
     "metadata": {},
     "output_type": "execute_result"
    }
   ],
   "source": [
    "#finding any missing data\n",
    "missing_data = df.isnull()\n",
    "missing_data.head(5)"
   ]
  },
  {
   "cell_type": "code",
   "execution_count": 6,
   "id": "a219960b",
   "metadata": {
    "execution": {
     "iopub.execute_input": "2022-03-10T02:39:20.716978Z",
     "iopub.status.busy": "2022-03-10T02:39:20.623671Z",
     "iopub.status.idle": "2022-03-10T02:39:20.789108Z",
     "shell.execute_reply": "2022-03-10T02:39:20.788045Z",
     "shell.execute_reply.started": "2022-03-09T16:26:08.629291Z"
    },
    "papermill": {
     "duration": 0.381888,
     "end_time": "2022-03-10T02:39:20.789351",
     "exception": false,
     "start_time": "2022-03-10T02:39:20.407463",
     "status": "completed"
    },
    "tags": []
   },
   "outputs": [
    {
     "name": "stdout",
     "output_type": "stream",
     "text": [
      "Step\n",
      "False    6362620\n",
      "Name: Step, dtype: int64\n",
      "\n",
      "Type\n",
      "False    6362620\n",
      "Name: Type, dtype: int64\n",
      "\n",
      "Amount\n",
      "False    6362620\n",
      "Name: Amount, dtype: int64\n",
      "\n",
      "NameOrig\n",
      "False    6362620\n",
      "Name: NameOrig, dtype: int64\n",
      "\n",
      "OldBalanceOrg\n",
      "False    6362620\n",
      "Name: OldBalanceOrg, dtype: int64\n",
      "\n",
      "newbalanceOrig\n",
      "False    6362620\n",
      "Name: newbalanceOrig, dtype: int64\n",
      "\n",
      "NameDest\n",
      "False    6362620\n",
      "Name: NameDest, dtype: int64\n",
      "\n",
      "OldBalanceDest\n",
      "False    6362620\n",
      "Name: OldBalanceDest, dtype: int64\n",
      "\n",
      "NewBalanceDest\n",
      "False    6362620\n",
      "Name: NewBalanceDest, dtype: int64\n",
      "\n",
      "IsFraud\n",
      "False    6362620\n",
      "Name: IsFraud, dtype: int64\n",
      "\n",
      "IsFlaggedFraud\n",
      "False    6362620\n",
      "Name: IsFlaggedFraud, dtype: int64\n",
      "\n"
     ]
    }
   ],
   "source": [
    "for column in missing_data.columns.values.tolist():\n",
    "    print(column)\n",
    "    print (missing_data[column].value_counts())\n",
    "    print(\"\")"
   ]
  },
  {
   "cell_type": "code",
   "execution_count": 7,
   "id": "2db99fe5",
   "metadata": {
    "execution": {
     "iopub.execute_input": "2022-03-10T02:39:20.845128Z",
     "iopub.status.busy": "2022-03-10T02:39:20.844127Z",
     "iopub.status.idle": "2022-03-10T02:39:20.848106Z",
     "shell.execute_reply": "2022-03-10T02:39:20.848550Z",
     "shell.execute_reply.started": "2022-03-09T16:26:08.992224Z"
    },
    "papermill": {
     "duration": 0.034148,
     "end_time": "2022-03-10T02:39:20.848712",
     "exception": false,
     "start_time": "2022-03-10T02:39:20.814564",
     "status": "completed"
    },
    "tags": []
   },
   "outputs": [
    {
     "data": {
      "text/plain": [
       "Step                int64\n",
       "Type               object\n",
       "Amount            float64\n",
       "NameOrig           object\n",
       "OldBalanceOrg     float64\n",
       "newbalanceOrig    float64\n",
       "NameDest           object\n",
       "OldBalanceDest    float64\n",
       "NewBalanceDest    float64\n",
       "IsFraud             int64\n",
       "IsFlaggedFraud      int64\n",
       "dtype: object"
      ]
     },
     "execution_count": 7,
     "metadata": {},
     "output_type": "execute_result"
    }
   ],
   "source": [
    "#data types\n",
    "df.dtypes"
   ]
  },
  {
   "cell_type": "code",
   "execution_count": 8,
   "id": "2278ae5e",
   "metadata": {
    "execution": {
     "iopub.execute_input": "2022-03-10T02:39:21.368781Z",
     "iopub.status.busy": "2022-03-10T02:39:21.367876Z",
     "iopub.status.idle": "2022-03-10T02:39:21.374395Z",
     "shell.execute_reply": "2022-03-10T02:39:21.373734Z",
     "shell.execute_reply.started": "2022-03-09T16:26:09.004964Z"
    },
    "papermill": {
     "duration": 0.501567,
     "end_time": "2022-03-10T02:39:21.374539",
     "exception": false,
     "start_time": "2022-03-10T02:39:20.872972",
     "status": "completed"
    },
    "tags": []
   },
   "outputs": [
    {
     "data": {
      "text/plain": [
       "CASH_OUT    2237500\n",
       "PAYMENT     2151495\n",
       "CASH_IN     1399284\n",
       "TRANSFER     532909\n",
       "DEBIT         41432\n",
       "Name: Type, dtype: int64"
      ]
     },
     "execution_count": 8,
     "metadata": {},
     "output_type": "execute_result"
    }
   ],
   "source": [
    "df.Type.value_counts()"
   ]
  },
  {
   "cell_type": "code",
   "execution_count": 9,
   "id": "321459ef",
   "metadata": {
    "execution": {
     "iopub.execute_input": "2022-03-10T02:39:21.463967Z",
     "iopub.status.busy": "2022-03-10T02:39:21.462915Z",
     "iopub.status.idle": "2022-03-10T02:39:21.468391Z",
     "shell.execute_reply": "2022-03-10T02:39:21.467943Z",
     "shell.execute_reply.started": "2022-03-09T16:26:10.068677Z"
    },
    "papermill": {
     "duration": 0.068712,
     "end_time": "2022-03-10T02:39:21.468529",
     "exception": false,
     "start_time": "2022-03-10T02:39:21.399817",
     "status": "completed"
    },
    "tags": []
   },
   "outputs": [
    {
     "data": {
      "text/plain": [
       "0    6354407\n",
       "1       8213\n",
       "Name: IsFraud, dtype: int64"
      ]
     },
     "execution_count": 9,
     "metadata": {},
     "output_type": "execute_result"
    }
   ],
   "source": [
    "df.IsFraud.value_counts()"
   ]
  },
  {
   "cell_type": "code",
   "execution_count": 10,
   "id": "f1da793e",
   "metadata": {
    "execution": {
     "iopub.execute_input": "2022-03-10T02:39:21.558266Z",
     "iopub.status.busy": "2022-03-10T02:39:21.557384Z",
     "iopub.status.idle": "2022-03-10T02:39:21.561073Z",
     "shell.execute_reply": "2022-03-10T02:39:21.560595Z",
     "shell.execute_reply.started": "2022-03-09T16:26:10.118714Z"
    },
    "papermill": {
     "duration": 0.066717,
     "end_time": "2022-03-10T02:39:21.561215",
     "exception": false,
     "start_time": "2022-03-10T02:39:21.494498",
     "status": "completed"
    },
    "tags": []
   },
   "outputs": [
    {
     "data": {
      "text/plain": [
       "0    6362604\n",
       "1         16\n",
       "Name: IsFlaggedFraud, dtype: int64"
      ]
     },
     "execution_count": 10,
     "metadata": {},
     "output_type": "execute_result"
    }
   ],
   "source": [
    "df.IsFlaggedFraud.value_counts()"
   ]
  },
  {
   "cell_type": "code",
   "execution_count": null,
   "id": "1ebc2341",
   "metadata": {
    "execution": {
     "iopub.execute_input": "2022-03-10T02:39:21.615697Z",
     "iopub.status.busy": "2022-03-10T02:39:21.615046Z",
     "iopub.status.idle": "2022-03-10T02:39:22.689808Z",
     "shell.execute_reply": "2022-03-10T02:39:22.690332Z",
     "shell.execute_reply.started": "2022-03-09T16:26:10.170328Z"
    },
    "papermill": {
     "duration": 1.104215,
     "end_time": "2022-03-10T02:39:22.690501",
     "exception": false,
     "start_time": "2022-03-10T02:39:21.586286",
     "status": "completed"
    },
    "tags": []
   },
   "outputs": [],
   "source": [
    "import seaborn as sns"
   ]
  },
  {
   "cell_type": "code",
   "execution_count": null,
   "id": "95a204ec",
   "metadata": {
    "execution": {
     "iopub.execute_input": "2022-03-10T02:39:22.744363Z",
     "iopub.status.busy": "2022-03-10T02:39:22.743392Z",
     "iopub.status.idle": "2022-03-10T02:41:02.496438Z",
     "shell.execute_reply": "2022-03-10T02:41:02.496942Z",
     "shell.execute_reply.started": "2022-03-09T16:26:11.16602Z"
    },
    "papermill": {
     "duration": 99.781869,
     "end_time": "2022-03-10T02:41:02.497136",
     "exception": false,
     "start_time": "2022-03-10T02:39:22.715267",
     "status": "completed"
    },
    "tags": []
   },
   "outputs": [],
   "source": [
    "sns.catplot(y=\"IsFlaggedFraud\", x=\"IsFraud\", hue=\"Type\", data=df)\n",
    "plt.xlabel(\"IsFraud\",fontsize=10)\n",
    "plt.ylabel(\"IsFlaggedFraud\",fontsize=10)\n",
    "plt.show()"
   ]
  },
  {
   "cell_type": "code",
   "execution_count": null,
   "id": "89a741e0",
   "metadata": {
    "execution": {
     "iopub.execute_input": "2022-03-10T02:41:02.799883Z",
     "iopub.status.busy": "2022-03-10T02:41:02.799260Z",
     "iopub.status.idle": "2022-03-10T02:41:54.857027Z",
     "shell.execute_reply": "2022-03-10T02:41:54.857512Z",
     "shell.execute_reply.started": "2022-03-09T16:28:11.656529Z"
    },
    "papermill": {
     "duration": 52.335137,
     "end_time": "2022-03-10T02:41:54.857683",
     "exception": false,
     "start_time": "2022-03-10T02:41:02.522546",
     "status": "completed"
    },
    "tags": []
   },
   "outputs": [],
   "source": [
    "sns.catplot(y=\"IsFlaggedFraud\", x=\"Type\", hue=\"Type\", data=df)\n",
    "plt.xlabel(\"Type\",fontsize=10)\n",
    "plt.ylabel(\"IsFlaggedFraud\",fontsize=10)\n",
    "plt.show()"
   ]
  },
  {
   "cell_type": "code",
   "execution_count": null,
   "id": "111d9f54",
   "metadata": {
    "execution": {
     "iopub.execute_input": "2022-03-10T02:41:54.914897Z",
     "iopub.status.busy": "2022-03-10T02:41:54.913817Z",
     "iopub.status.idle": "2022-03-10T02:41:56.472699Z",
     "shell.execute_reply": "2022-03-10T02:41:56.473257Z",
     "shell.execute_reply.started": "2022-03-09T16:29:28.582224Z"
    },
    "papermill": {
     "duration": 1.589342,
     "end_time": "2022-03-10T02:41:56.473433",
     "exception": false,
     "start_time": "2022-03-10T02:41:54.884091",
     "status": "completed"
    },
    "tags": []
   },
   "outputs": [],
   "source": [
    "df.describe()"
   ]
  },
  {
   "cell_type": "code",
   "execution_count": null,
   "id": "ad24ee97",
   "metadata": {
    "execution": {
     "iopub.execute_input": "2022-03-10T02:41:56.534060Z",
     "iopub.status.busy": "2022-03-10T02:41:56.533378Z",
     "iopub.status.idle": "2022-03-10T02:41:56.901140Z",
     "shell.execute_reply": "2022-03-10T02:41:56.901621Z",
     "shell.execute_reply.started": "2022-03-09T16:29:30.21654Z"
    },
    "papermill": {
     "duration": 0.40058,
     "end_time": "2022-03-10T02:41:56.901796",
     "exception": false,
     "start_time": "2022-03-10T02:41:56.501216",
     "status": "completed"
    },
    "tags": []
   },
   "outputs": [],
   "source": [
    "from sklearn.tree import DecisionTreeClassifier"
   ]
  },
  {
   "cell_type": "code",
   "execution_count": 16,
   "id": "873de52b",
   "metadata": {
    "execution": {
     "iopub.execute_input": "2022-03-10T02:41:56.958712Z",
     "iopub.status.busy": "2022-03-10T02:41:56.957746Z",
     "iopub.status.idle": "2022-03-10T02:41:57.052403Z",
     "shell.execute_reply": "2022-03-10T02:41:57.051777Z",
     "shell.execute_reply.started": "2022-03-09T16:29:30.556884Z"
    },
    "papermill": {
     "duration": 0.124268,
     "end_time": "2022-03-10T02:41:57.052551",
     "exception": false,
     "start_time": "2022-03-10T02:41:56.928283",
     "status": "completed"
    },
    "tags": []
   },
   "outputs": [
    {
     "data": {
      "text/plain": [
       "array([[0.000000e+00, 0.000000e+00, 9.839640e+03],\n",
       "       [0.000000e+00, 0.000000e+00, 1.864280e+03],\n",
       "       [1.000000e+00, 0.000000e+00, 1.810000e+02],\n",
       "       [1.000000e+00, 0.000000e+00, 1.810000e+02],\n",
       "       [0.000000e+00, 0.000000e+00, 1.166814e+04]])"
      ]
     },
     "execution_count": 16,
     "metadata": {},
     "output_type": "execute_result"
    }
   ],
   "source": [
    "X = df[['IsFraud', 'IsFlaggedFraud', 'Amount']].values\n",
    "X[0:5]"
   ]
  },
  {
   "cell_type": "code",
   "execution_count": 17,
   "id": "cb965580",
   "metadata": {
    "execution": {
     "iopub.execute_input": "2022-03-10T02:41:57.115262Z",
     "iopub.status.busy": "2022-03-10T02:41:57.114207Z",
     "iopub.status.idle": "2022-03-10T02:41:57.118362Z",
     "shell.execute_reply": "2022-03-10T02:41:57.117734Z",
     "shell.execute_reply.started": "2022-03-09T16:29:30.65652Z"
    },
    "papermill": {
     "duration": 0.037984,
     "end_time": "2022-03-10T02:41:57.118497",
     "exception": false,
     "start_time": "2022-03-10T02:41:57.080513",
     "status": "completed"
    },
    "tags": []
   },
   "outputs": [
    {
     "data": {
      "text/plain": [
       "0     PAYMENT\n",
       "1     PAYMENT\n",
       "2    TRANSFER\n",
       "3    CASH_OUT\n",
       "4     PAYMENT\n",
       "Name: Type, dtype: object"
      ]
     },
     "execution_count": 17,
     "metadata": {},
     "output_type": "execute_result"
    }
   ],
   "source": [
    "y = df[\"Type\"]\n",
    "y[0:5]"
   ]
  },
  {
   "cell_type": "code",
   "execution_count": 18,
   "id": "7c4717d3",
   "metadata": {
    "execution": {
     "iopub.execute_input": "2022-03-10T02:41:57.177132Z",
     "iopub.status.busy": "2022-03-10T02:41:57.176247Z",
     "iopub.status.idle": "2022-03-10T02:41:57.179218Z",
     "shell.execute_reply": "2022-03-10T02:41:57.178692Z",
     "shell.execute_reply.started": "2022-03-09T16:29:30.667301Z"
    },
    "papermill": {
     "duration": 0.033953,
     "end_time": "2022-03-10T02:41:57.179359",
     "exception": false,
     "start_time": "2022-03-10T02:41:57.145406",
     "status": "completed"
    },
    "tags": []
   },
   "outputs": [],
   "source": [
    "#Setting up the Decision Tree\n",
    "#  importing train_test_split from sklearn.cross_validation\n",
    "from sklearn.model_selection import train_test_split"
   ]
  },
  {
   "cell_type": "code",
   "execution_count": 19,
   "id": "e6ced5c8",
   "metadata": {
    "execution": {
     "iopub.execute_input": "2022-03-10T02:41:57.239155Z",
     "iopub.status.busy": "2022-03-10T02:41:57.237689Z",
     "iopub.status.idle": "2022-03-10T02:41:59.084399Z",
     "shell.execute_reply": "2022-03-10T02:41:59.084939Z",
     "shell.execute_reply.started": "2022-03-09T16:29:30.679997Z"
    },
    "papermill": {
     "duration": 1.877045,
     "end_time": "2022-03-10T02:41:59.085114",
     "exception": false,
     "start_time": "2022-03-10T02:41:57.208069",
     "status": "completed"
    },
    "tags": []
   },
   "outputs": [],
   "source": [
    "X_trainset, X_testset, y_trainset, y_testset = train_test_split(X, y, test_size=0.9, random_state=9)"
   ]
  },
  {
   "cell_type": "code",
   "execution_count": 20,
   "id": "ab9dd116",
   "metadata": {
    "execution": {
     "iopub.execute_input": "2022-03-10T02:41:59.142503Z",
     "iopub.status.busy": "2022-03-10T02:41:59.141952Z",
     "iopub.status.idle": "2022-03-10T02:41:59.147734Z",
     "shell.execute_reply": "2022-03-10T02:41:59.148218Z",
     "shell.execute_reply.started": "2022-03-09T16:29:32.673974Z"
    },
    "papermill": {
     "duration": 0.03628,
     "end_time": "2022-03-10T02:41:59.148394",
     "exception": false,
     "start_time": "2022-03-10T02:41:59.112114",
     "status": "completed"
    },
    "tags": []
   },
   "outputs": [
    {
     "name": "stdout",
     "output_type": "stream",
     "text": [
      "Shape of X training set (636262, 3) &  Size of Y training set (636262,)\n",
      "Shape of X testing set (5726358, 3) &  Size of Y testing set (5726358,)\n"
     ]
    }
   ],
   "source": [
    "#Printing the shape of X_trainset and y_trainset\n",
    "print('Shape of X training set {}'.format(X_trainset.shape),'&',' Size of Y training set {}'.format(y_trainset.shape))\n",
    "\n",
    "print('Shape of X testing set {}'.format(X_testset.shape),'&',' Size of Y testing set {}'.format(y_testset.shape))\n"
   ]
  },
  {
   "cell_type": "code",
   "execution_count": 21,
   "id": "85355bfe",
   "metadata": {
    "execution": {
     "iopub.execute_input": "2022-03-10T02:41:59.206771Z",
     "iopub.status.busy": "2022-03-10T02:41:59.206160Z",
     "iopub.status.idle": "2022-03-10T02:41:59.210653Z",
     "shell.execute_reply": "2022-03-10T02:41:59.211215Z",
     "shell.execute_reply.started": "2022-03-09T16:29:32.682861Z"
    },
    "papermill": {
     "duration": 0.036022,
     "end_time": "2022-03-10T02:41:59.211381",
     "exception": false,
     "start_time": "2022-03-10T02:41:59.175359",
     "status": "completed"
    },
    "tags": []
   },
   "outputs": [
    {
     "data": {
      "text/plain": [
       "DecisionTreeClassifier(criterion='entropy', max_depth=4)"
      ]
     },
     "execution_count": 21,
     "metadata": {},
     "output_type": "execute_result"
    }
   ],
   "source": [
    "#Modeling\n",
    "# Creating DecisionTreeClassifier called drugTree\n",
    "FraudTree = DecisionTreeClassifier(criterion=\"entropy\", max_depth = 4)\n",
    "FraudTree # it shows the default parameters"
   ]
  },
  {
   "cell_type": "code",
   "execution_count": 22,
   "id": "144fe135",
   "metadata": {
    "execution": {
     "iopub.execute_input": "2022-03-10T02:41:59.268455Z",
     "iopub.status.busy": "2022-03-10T02:41:59.267885Z",
     "iopub.status.idle": "2022-03-10T02:42:01.502601Z",
     "shell.execute_reply": "2022-03-10T02:42:01.501981Z",
     "shell.execute_reply.started": "2022-03-09T16:29:32.698845Z"
    },
    "papermill": {
     "duration": 2.26424,
     "end_time": "2022-03-10T02:42:01.502738",
     "exception": false,
     "start_time": "2022-03-10T02:41:59.238498",
     "status": "completed"
    },
    "tags": []
   },
   "outputs": [
    {
     "data": {
      "text/plain": [
       "DecisionTreeClassifier(criterion='entropy', max_depth=4)"
      ]
     },
     "execution_count": 22,
     "metadata": {},
     "output_type": "execute_result"
    }
   ],
   "source": [
    "#fit the data with the training feature matrix X_trainset and training response vector y_trainset\n",
    "FraudTree.fit(X_trainset,y_trainset)"
   ]
  },
  {
   "cell_type": "code",
   "execution_count": 23,
   "id": "05bc2044",
   "metadata": {
    "execution": {
     "iopub.execute_input": "2022-03-10T02:42:01.563552Z",
     "iopub.status.busy": "2022-03-10T02:42:01.562862Z",
     "iopub.status.idle": "2022-03-10T02:42:02.037261Z",
     "shell.execute_reply": "2022-03-10T02:42:02.036683Z",
     "shell.execute_reply.started": "2022-03-09T16:29:36.053219Z"
    },
    "papermill": {
     "duration": 0.506738,
     "end_time": "2022-03-10T02:42:02.037403",
     "exception": false,
     "start_time": "2022-03-10T02:42:01.530665",
     "status": "completed"
    },
    "tags": []
   },
   "outputs": [],
   "source": [
    "#Prediction\n",
    "#predictions on the testing dataset and store it into a variable called predTree\n",
    "predTree = FraudTree.predict(X_testset)"
   ]
  },
  {
   "cell_type": "code",
   "execution_count": 24,
   "id": "b051da41",
   "metadata": {
    "execution": {
     "iopub.execute_input": "2022-03-10T02:42:02.099044Z",
     "iopub.status.busy": "2022-03-10T02:42:02.098455Z",
     "iopub.status.idle": "2022-03-10T02:42:02.104400Z",
     "shell.execute_reply": "2022-03-10T02:42:02.105069Z",
     "shell.execute_reply.started": "2022-03-09T16:29:36.540564Z"
    },
    "papermill": {
     "duration": 0.038519,
     "end_time": "2022-03-10T02:42:02.105301",
     "exception": false,
     "start_time": "2022-03-10T02:42:02.066782",
     "status": "completed"
    },
    "tags": []
   },
   "outputs": [
    {
     "name": "stdout",
     "output_type": "stream",
     "text": [
      "['CASH_OUT' 'CASH_OUT' 'CASH_OUT' 'PAYMENT' 'PAYMENT']\n",
      "1141850    CASH_OUT\n",
      "6173244    TRANSFER\n",
      "2766384    TRANSFER\n",
      "4359045     PAYMENT\n",
      "255527      PAYMENT\n",
      "Name: Type, dtype: object\n"
     ]
    }
   ],
   "source": [
    "print (predTree [0:5])\n",
    "print (y_testset [0:5])"
   ]
  },
  {
   "cell_type": "code",
   "execution_count": 25,
   "id": "a3cacc6c",
   "metadata": {
    "execution": {
     "iopub.execute_input": "2022-03-10T02:42:02.170489Z",
     "iopub.status.busy": "2022-03-10T02:42:02.168787Z",
     "iopub.status.idle": "2022-03-10T02:42:12.481907Z",
     "shell.execute_reply": "2022-03-10T02:42:12.482709Z",
     "shell.execute_reply.started": "2022-03-09T16:29:36.550126Z"
    },
    "papermill": {
     "duration": 10.348279,
     "end_time": "2022-03-10T02:42:12.482991",
     "exception": false,
     "start_time": "2022-03-10T02:42:02.134712",
     "status": "completed"
    },
    "tags": []
   },
   "outputs": [
    {
     "name": "stdout",
     "output_type": "stream",
     "text": [
      "DecisionTrees's Accuracy:  0.661237212203638\n"
     ]
    }
   ],
   "source": [
    "#Evaluation\n",
    "#importing metrics from sklearn and check the accuracy of our model\n",
    "from sklearn import metrics\n",
    "import matplotlib.pyplot as plt\n",
    "print(\"DecisionTrees's Accuracy: \", metrics.accuracy_score(y_testset, predTree))"
   ]
  },
  {
   "cell_type": "code",
   "execution_count": 26,
   "id": "b945d375",
   "metadata": {
    "execution": {
     "iopub.execute_input": "2022-03-10T02:42:12.549105Z",
     "iopub.status.busy": "2022-03-10T02:42:12.548388Z",
     "iopub.status.idle": "2022-03-10T02:43:25.973682Z",
     "shell.execute_reply": "2022-03-10T02:43:25.973209Z",
     "shell.execute_reply.started": "2022-03-09T16:29:58.99143Z"
    },
    "papermill": {
     "duration": 73.460908,
     "end_time": "2022-03-10T02:43:25.973854",
     "exception": false,
     "start_time": "2022-03-10T02:42:12.512946",
     "status": "completed"
    },
    "tags": []
   },
   "outputs": [
    {
     "name": "stdout",
     "output_type": "stream",
     "text": [
      "Collecting package metadata (current_repodata.json): - \b\b\\ \b\b| \b\b/ \b\b- \b\b\\ \b\b| \b\b/ \b\b- \b\b\\ \b\b| \b\b/ \b\b- \b\b\\ \b\b| \b\b/ \b\b- \b\b\\ \b\b| \b\b/ \b\b- \b\b\\ \b\b| \b\b/ \b\b- \b\b\\ \b\b| \b\b/ \b\b- \b\b\\ \b\b| \b\b/ \b\b- \b\b\\ \b\b| \b\b/ \b\b- \b\b\\ \b\b| \b\b/ \b\b- \b\b\\ \b\b| \b\b/ \b\b- \b\b\\ \b\b| \b\b/ \b\b- \b\b\\ \b\b| \b\b/ \b\b- \b\b\\ \b\b| \b\b/ \b\b- \b\b\\ \b\b| \b\b/ \b\b- \b\b\\ \b\b| \b\b/ \b\b- \b\b\\ \b\b| \b\b/ \b\b- \b\b\\ \b\b| \b\b/ \b\b- \b\b\\ \b\b| \b\b/ \b\b- \b\b\\ \b\b| \b\b/ \b\b- \b\b\\ \b\b| \b\b/ \b\b- \b\b\\ \b\b| \b\b/ \b\b- \b\b\\ \b\b| \b\b/ \b\b- \b\b\\ \b\b| \b\b/ \b\b- \b\b\\ \b\b| \b\b/ \b\b- \b\b\\ \b\b| \b\b/ \b\b- \b\b\\ \b\b| \b\b/ \b\b- \b\b\\ \b\b| \b\b/ \b\bdone\r\n",
      "Solving environment: \\ \b\b| \b\b/ \b\b- \b\b\\ \b\b| \b\b/ \b\b- \b\b\\ \b\b| \b\b/ \b\b- \b\b\\ \b\b| \b\b/ \b\b- \b\b\\ \b\b| \b\b/ \b\b- \b\b\\ \b\b| \b\b/ \b\b- \b\b\\ \b\b| \b\b/ \b\b- \b\b\\ \b\b| \b\b/ \b\b- \b\b\\ \b\b| \b\b/ \b\b- \b\b\\ \b\b| \b\b/ \b\b- \b\b\\ \b\b| \b\b/ \b\b- \b\b\\ \b\b| \b\b/ \b\b- \b\b\\ \b\b| \b\b/ \b\b- \b\b\\ \b\b| \b\b/ \b\b- \b\b\\ \b\b| \b\b/ \b\b- \b\b\\ \b\b| \b\b/ \b\b- \b\b\\ \b\b| \b\b/ \b\b- \b\b\\ \b\b| \b\bdone\r\n",
      "\r\n",
      "## Package Plan ##\r\n",
      "\r\n",
      "  environment location: /opt/conda\r\n",
      "\r\n",
      "  added / updated specs:\r\n",
      "    - pydotplus\r\n",
      "\r\n",
      "\r\n",
      "The following packages will be downloaded:\r\n",
      "\r\n",
      "    package                    |            build\r\n",
      "    ---------------------------|-----------------\r\n",
      "    conda-4.11.0               |   py37h89c1867_1         983 KB  conda-forge\r\n",
      "    pydotplus-2.0.2            |     pyhaef67bd_5          24 KB  conda-forge\r\n",
      "    ------------------------------------------------------------\r\n",
      "                                           Total:        1007 KB\r\n",
      "\r\n",
      "The following NEW packages will be INSTALLED:\r\n",
      "\r\n",
      "  pydotplus          conda-forge/noarch::pydotplus-2.0.2-pyhaef67bd_5\r\n",
      "\r\n",
      "The following packages will be UPDATED:\r\n",
      "\r\n",
      "  conda                               4.11.0-py37h89c1867_0 --> 4.11.0-py37h89c1867_1\r\n",
      "\r\n",
      "\r\n",
      "\r\n",
      "Downloading and Extracting Packages\r\n",
      "pydotplus-2.0.2      | 24 KB     | ##################################### | 100% \r\n",
      "conda-4.11.0         | 983 KB    | ##################################### | 100% \r\n",
      "Preparing transaction: - \b\bdone\r\n",
      "Verifying transaction: | \b\bdone\r\n",
      "Executing transaction: - \b\b\\ \b\b| \b\b/ \b\b- \b\b\\ \b\b| \b\b/ \b\b- \b\b\\ \b\b| \b\b/ \b\b- \b\b\\ \b\b| \b\b/ \b\b- \b\b\\ \b\b| \b\b/ \b\b- \b\b\\ \b\b| \b\b/ \b\b- \b\b\\ \b\b| \b\b/ \b\b- \b\b\\ \b\b| \b\b/ \b\b- \b\bdone\r\n",
      "Collecting package metadata (current_repodata.json): - \b\b\\ \b\b| \b\b/ \b\b- \b\b\\ \b\b| \b\b/ \b\b- \b\b\\ \b\b| \b\b/ \b\b- \b\b\\ \b\b| \b\b/ \b\b- \b\b\\ \b\b| \b\b/ \b\b- \b\b\\ \b\b| \b\b/ \b\b- \b\b\\ \b\b| \b\b/ \b\b- \b\b\\ \b\b| \b\b/ \b\b- \b\b\\ \b\b| \b\b/ \b\b- \b\b\\ \b\b| \b\b/ \b\b- \b\b\\ \b\b| \b\b/ \b\bdone\r\n",
      "Solving environment: \\ \b\b| \b\b/ \b\b- \b\b\\ \b\b| \b\b/ \b\b- \b\b\\ \b\b| \b\b/ \b\b- \b\b\\ \b\b| \b\b/ \b\b- \b\b\\ \b\b| \b\b/ \b\b- \b\b\\ \b\b| \b\b/ \b\b- \b\b\\ \b\b| \b\b/ \b\b- \b\b\\ \b\b| \b\b/ \b\b- \b\b\\ \b\b| \b\b/ \b\b- \b\b\\ \b\b| \b\b/ \b\b- \b\b\\ \b\b| \b\b/ \b\b- \b\b\\ \b\b| \b\b/ \b\b- \b\b\\ \b\b| \b\b/ \b\b- \b\b\\ \b\b| \b\b/ \b\b- \b\b\\ \b\b| \b\b/ \b\b- \b\b\\ \b\b| \b\b/ \b\b- \b\b\\ \b\bdone\r\n",
      "\r\n",
      "## Package Plan ##\r\n",
      "\r\n",
      "  environment location: /opt/conda\r\n",
      "\r\n",
      "  added / updated specs:\r\n",
      "    - python-graphviz\r\n",
      "\r\n",
      "\r\n",
      "The following packages will be downloaded:\r\n",
      "\r\n",
      "    package                    |            build\r\n",
      "    ---------------------------|-----------------\r\n",
      "    python-graphviz-0.19.1     |     pyhaef67bd_0          34 KB  conda-forge\r\n",
      "    ------------------------------------------------------------\r\n",
      "                                           Total:          34 KB\r\n",
      "\r\n",
      "The following NEW packages will be INSTALLED:\r\n",
      "\r\n",
      "  python-graphviz    conda-forge/noarch::python-graphviz-0.19.1-pyhaef67bd_0\r\n",
      "\r\n",
      "\r\n",
      "\r\n",
      "Downloading and Extracting Packages\r\n",
      "python-graphviz-0.19 | 34 KB     | ##################################### | 100% \r\n",
      "Preparing transaction: / \b\bdone\r\n",
      "Verifying transaction: \\ \b\bdone\r\n",
      "Executing transaction: / \b\b- \b\b\\ \b\b| \b\b/ \b\b- \b\b\\ \b\b| \b\b/ \b\bdone\r\n"
     ]
    }
   ],
   "source": [
    "#Visualization\n",
    "!conda install -c conda-forge pydotplus -y\n",
    "!conda install -c conda-forge python-graphviz -y\n",
    "from  io import StringIO\n",
    "import pydotplus\n",
    "import matplotlib.image as mpimg\n",
    "from sklearn import tree\n",
    "%matplotlib inline "
   ]
  },
  {
   "cell_type": "code",
   "execution_count": 12,
   "id": "445dd750",
   "metadata": {
    "execution": {
     "iopub.execute_input": "2022-03-10T02:43:26.795591Z",
     "iopub.status.busy": "2022-03-10T02:43:26.794400Z",
     "iopub.status.idle": "2022-03-10T02:43:38.310089Z",
     "shell.execute_reply": "2022-03-10T02:43:38.310570Z",
     "shell.execute_reply.started": "2022-03-09T16:31:16.166962Z"
    },
    "papermill": {
     "duration": 12.215479,
     "end_time": "2022-03-10T02:43:38.310746",
     "exception": false,
     "start_time": "2022-03-10T02:43:26.095267",
     "status": "completed"
    },
    "tags": []
   },
   "outputs": [
    {
     "ename": "NameError",
     "evalue": "name 'StringIO' is not defined",
     "output_type": "error",
     "traceback": [
      "\u001b[1;31m---------------------------------------------------------------------------\u001b[0m",
      "\u001b[1;31mNameError\u001b[0m                                 Traceback (most recent call last)",
      "\u001b[1;32mC:\\Users\\CHITRA~1\\AppData\\Local\\Temp/ipykernel_17588/2771030695.py\u001b[0m in \u001b[0;36m<module>\u001b[1;34m\u001b[0m\n\u001b[1;32m----> 1\u001b[1;33m \u001b[0mdot_data\u001b[0m \u001b[1;33m=\u001b[0m \u001b[0mStringIO\u001b[0m\u001b[1;33m(\u001b[0m\u001b[1;33m)\u001b[0m\u001b[1;33m\u001b[0m\u001b[1;33m\u001b[0m\u001b[0m\n\u001b[0m\u001b[0;32m      2\u001b[0m \u001b[0mfilename\u001b[0m \u001b[1;33m=\u001b[0m \u001b[1;34m\"Fraudtree.png\"\u001b[0m\u001b[1;33m\u001b[0m\u001b[1;33m\u001b[0m\u001b[0m\n\u001b[0;32m      3\u001b[0m \u001b[0mfeatureNames\u001b[0m \u001b[1;33m=\u001b[0m \u001b[0mdf\u001b[0m\u001b[1;33m.\u001b[0m\u001b[0mcolumns\u001b[0m\u001b[1;33m[\u001b[0m\u001b[1;36m0\u001b[0m\u001b[1;33m:\u001b[0m\u001b[1;36m3\u001b[0m\u001b[1;33m]\u001b[0m\u001b[1;33m\u001b[0m\u001b[1;33m\u001b[0m\u001b[0m\n\u001b[0;32m      4\u001b[0m \u001b[0mout\u001b[0m\u001b[1;33m=\u001b[0m\u001b[0mtree\u001b[0m\u001b[1;33m.\u001b[0m\u001b[0mexport_graphviz\u001b[0m\u001b[1;33m(\u001b[0m\u001b[0mFraudTree\u001b[0m\u001b[1;33m,\u001b[0m\u001b[0mfeature_names\u001b[0m\u001b[1;33m=\u001b[0m\u001b[0mfeatureNames\u001b[0m\u001b[1;33m,\u001b[0m \u001b[0mout_file\u001b[0m\u001b[1;33m=\u001b[0m\u001b[0mdot_data\u001b[0m\u001b[1;33m,\u001b[0m \u001b[0mclass_names\u001b[0m\u001b[1;33m=\u001b[0m \u001b[0mnp\u001b[0m\u001b[1;33m.\u001b[0m\u001b[0munique\u001b[0m\u001b[1;33m(\u001b[0m\u001b[0my_trainset\u001b[0m\u001b[1;33m)\u001b[0m\u001b[1;33m,\u001b[0m \u001b[0mfilled\u001b[0m\u001b[1;33m=\u001b[0m\u001b[1;32mTrue\u001b[0m\u001b[1;33m,\u001b[0m  \u001b[0mspecial_characters\u001b[0m\u001b[1;33m=\u001b[0m\u001b[1;32mTrue\u001b[0m\u001b[1;33m,\u001b[0m\u001b[0mrotate\u001b[0m\u001b[1;33m=\u001b[0m\u001b[1;32mFalse\u001b[0m\u001b[1;33m)\u001b[0m\u001b[1;33m\u001b[0m\u001b[1;33m\u001b[0m\u001b[0m\n\u001b[0;32m      5\u001b[0m \u001b[0mgraph\u001b[0m \u001b[1;33m=\u001b[0m \u001b[0mpydotplus\u001b[0m\u001b[1;33m.\u001b[0m\u001b[0mgraph_from_dot_data\u001b[0m\u001b[1;33m(\u001b[0m\u001b[0mdot_data\u001b[0m\u001b[1;33m.\u001b[0m\u001b[0mgetvalue\u001b[0m\u001b[1;33m(\u001b[0m\u001b[1;33m)\u001b[0m\u001b[1;33m)\u001b[0m\u001b[1;33m\u001b[0m\u001b[1;33m\u001b[0m\u001b[0m\n",
      "\u001b[1;31mNameError\u001b[0m: name 'StringIO' is not defined"
     ]
    }
   ],
   "source": [
    "dot_data = StringIO()\n",
    "filename = \"Fraudtree.png\"\n",
    "featureNames = df.columns[0:3]\n",
    "out=tree.export_graphviz(FraudTree,feature_names=featureNames, out_file=dot_data, class_names= np.unique(y_trainset), filled=True,  special_characters=True,rotate=False)  \n",
    "graph = pydotplus.graph_from_dot_data(dot_data.getvalue())  \n",
    "graph.write_png(filename)\n",
    "img = mpimg.imread(filename)\n",
    "plt.figure(figsize=(300, 500))\n",
    "plt.imshow(img,interpolation='nearest')"
   ]
  },
  {
   "cell_type": "markdown",
   "id": "dc8c7d5b",
   "metadata": {
    "papermill": {
     "duration": 0.144802,
     "end_time": "2022-03-10T02:43:38.599122",
     "exception": false,
     "start_time": "2022-03-10T02:43:38.454320",
     "status": "completed"
    },
    "tags": []
   },
   "source": [
    "*Here we can detect various anomalies in Transfer payments and cash out,\n",
    "therefore these payment methods need to be monitored and updated\n",
    "asynchronously.\n",
    "*The type of transactions such as transfer and cash out seems to be key \n",
    "factors of fraud.\n",
    "*Decision tree classify better accuracy score"
   ]
  }
 ],
 "metadata": {
  "kernelspec": {
   "display_name": "Python 3 (ipykernel)",
   "language": "python",
   "name": "python3"
  },
  "language_info": {
   "codemirror_mode": {
    "name": "ipython",
    "version": 3
   },
   "file_extension": ".py",
   "mimetype": "text/x-python",
   "name": "python",
   "nbconvert_exporter": "python",
   "pygments_lexer": "ipython3",
   "version": "3.9.7"
  },
  "papermill": {
   "default_parameters": {},
   "duration": 286.826347,
   "end_time": "2022-03-10T02:43:40.058319",
   "environment_variables": {},
   "exception": null,
   "input_path": "__notebook__.ipynb",
   "output_path": "__notebook__.ipynb",
   "parameters": {},
   "start_time": "2022-03-10T02:38:53.231972",
   "version": "2.3.3"
  }
 },
 "nbformat": 4,
 "nbformat_minor": 5
}
